{
  "cells": [
    {
      "cell_type": "code",
      "execution_count": null,
      "metadata": {
        "colab": {
          "base_uri": "https://localhost:8080/"
        },
        "id": "Gfmn78HXTi9n",
        "outputId": "5c2ced8e-23eb-4e21-df52-799566ae3721"
      },
      "outputs": [
        {
          "name": "stdout",
          "output_type": "stream",
          "text": [
            "Drive already mounted at /content/drive; to attempt to forcibly remount, call drive.mount(\"/content/drive\", force_remount=True).\n"
          ]
        }
      ],
      "source": [
        "from google.colab import drive\n",
        "drive.mount('/content/drive')"
      ]
    },
    {
      "cell_type": "code",
      "execution_count": null,
      "metadata": {
        "colab": {
          "base_uri": "https://localhost:8080/"
        },
        "id": "RkO5YAKxTsNK",
        "outputId": "f0c46a88-503f-48cc-c8ec-5ce8c43ee4ab"
      },
      "outputs": [
        {
          "name": "stdout",
          "output_type": "stream",
          "text": [
            "/content/drive/My Drive/Data Colab/ml-pg-project\n"
          ]
        }
      ],
      "source": [
        "%cd /content/drive/\"My Drive\"/\"Data Colab\"/ml-pg-project"
      ]
    },
    {
      "cell_type": "code",
      "execution_count": null,
      "metadata": {
        "id": "MpXn6hoBTQwV"
      },
      "outputs": [],
      "source": [
        "import pandas as pd\n",
        "import torch.utils.data as Data\n",
        "import torch.nn as nn\n",
        "import numpy as np\n",
        "import torch\n",
        "from sklearn.decomposition import PCA\n",
        "from tqdm import tqdm"
      ]
    },
    {
      "cell_type": "code",
      "execution_count": null,
      "metadata": {
        "colab": {
          "base_uri": "https://localhost:8080/"
        },
        "id": "bbCCvudoUPoM",
        "outputId": "511f8467-1d10-4d51-99f8-6201c59438a4"
      },
      "outputs": [
        {
          "data": {
            "text/plain": [
              "device(type='cuda', index=0)"
            ]
          },
          "execution_count": 142,
          "metadata": {},
          "output_type": "execute_result"
        }
      ],
      "source": [
        "device = torch.device(\"cuda:0\" if torch.cuda.is_available() else \"cpu\")\n",
        "device"
      ]
    },
    {
      "cell_type": "code",
      "execution_count": null,
      "metadata": {
        "id": "f-JvWsh9TWDk"
      },
      "outputs": [],
      "source": [
        "TOTAL_FEATURES = 6\n",
        "DAYS = 60\n",
        "BATCH_SIZE = 128"
      ]
    },
    {
      "cell_type": "code",
      "execution_count": null,
      "metadata": {
        "id": "_l6kzVf7TXcz"
      },
      "outputs": [],
      "source": [
        "class StockMarketDataReg(Data.Dataset):\n",
        "    def __init__(self, train=None, split=0.2, target_market=\"S&P\", days=60):\n",
        "        self.days = days + 1 # as last entry is to be predicted\n",
        "\n",
        "        df = pd.read_csv(f\"Processed_{target_market}.csv\")\n",
        "        df['Date'] = pd.to_datetime(df['Date'], format='%Y-%m-%d')\n",
        "        df = df.sort_values(by='Date')\n",
        "        df = df.drop(columns=['Name', 'Date'])\n",
        "        df = df.fillna(0)\n",
        "        \n",
        "        # outlier detection\n",
        "        for col in df.columns:\n",
        "            q1, q3 = df[col].quantile([0.25, 0.75])\n",
        "            iqr = q3 - q1\n",
        "            lb, rb = q1 - 1.5 * iqr, q3 + 1.5 * iqr\n",
        "            for i in range(len(df)):\n",
        "                if df[col][i] > rb:\n",
        "                    df[col][i] = rb\n",
        "                if df[col][i] < lb:\n",
        "                    df[col][i] = lb\n",
        "\n",
        "        self.feature_list = list(set(df.columns) - set(['Close']))\n",
        "        if train is None:\n",
        "            u = df.iloc[0: int(len(df) * (1 - split))]\n",
        "            # pca\n",
        "            self.pca = PCA(TOTAL_FEATURES - 1)\n",
        "            self.pca_data = self.pca.fit_transform(u[self.feature_list])\n",
        "            self.closing_prices = u['Close'].to_numpy()\n",
        "            self.data = np.hstack(( self.closing_prices.reshape((-1, 1)), self.pca_data ))\n",
        "        else:\n",
        "            u = df.iloc[int(len(df) * (1 - split)) - self.days:]\n",
        "            # pca\n",
        "            self.pca_data = train.pca.transform(u[self.feature_list])\n",
        "            self.closing_prices = u['Close'].to_numpy()\n",
        "            self.data = np.hstack(( self.closing_prices.reshape((-1, 1)), self.pca_data ))\n",
        "\n",
        "        self.num_rows = u.shape[0]\n",
        "    \n",
        "    def __getitem__(self, idx):\n",
        "        end_idx = self.days + idx - 1\n",
        "        market_tens = torch.from_numpy(self.data[idx: end_idx + 1])\n",
        "        return market_tens.float()\n",
        "    \n",
        "    def __len__(self):\n",
        "        return self.num_rows - self.days"
      ]
    },
    {
      "cell_type": "code",
      "execution_count": null,
      "metadata": {
        "id": "SXCwTO2AT2jD"
      },
      "outputs": [],
      "source": [
        "train_ds = StockMarketDataReg(target_market='S&P', split=0.2, days=DAYS)\n",
        "test_ds = StockMarketDataReg(target_market='S&P', split=0.2, days=DAYS, train=train_ds)"
      ]
    },
    {
      "cell_type": "code",
      "execution_count": null,
      "metadata": {
        "id": "yA5sUNmWT4WU"
      },
      "outputs": [],
      "source": [
        "train_dataloader = Data.DataLoader(train_ds, batch_size=BATCH_SIZE)"
      ]
    },
    {
      "cell_type": "code",
      "execution_count": null,
      "metadata": {
        "colab": {
          "base_uri": "https://localhost:8080/"
        },
        "id": "H925se6rT5qc",
        "outputId": "b8d45500-dbcb-4a3e-8b4c-2c32bf59f07d"
      },
      "outputs": [
        {
          "data": {
            "text/plain": [
              "torch.Size([128, 61, 6])"
            ]
          },
          "execution_count": 147,
          "metadata": {},
          "output_type": "execute_result"
        }
      ],
      "source": [
        "sample = next(iter(train_dataloader)).to(device)\n",
        "sample.shape"
      ]
    },
    {
      "cell_type": "code",
      "execution_count": null,
      "metadata": {
        "id": "bm-7i1VrT6-2"
      },
      "outputs": [],
      "source": [
        "class Generator(nn.Module):\n",
        "    '''\n",
        "    Generates fake data using features of past DAYS days\n",
        "    '''\n",
        "    def __init__(self, num_features, days, hidden_size=150):\n",
        "        super().__init__()\n",
        "        self.num_features = num_features\n",
        "        self.days = days\n",
        "        self.hidden_size = hidden_size\n",
        "        # model\n",
        "        self.lstm = nn.LSTM(input_size=self.num_features, hidden_size=self.hidden_size, num_layers=1, batch_first=True)\n",
        "        self.decoder = nn.Sequential(\n",
        "                nn.Linear(self.hidden_size * self.days, 2000),\n",
        "                nn.BatchNorm1d(2000, momentum=0.9, eps=1e-05),\n",
        "                nn.Tanh(),\n",
        "                nn.Linear(2000, 500),\n",
        "                nn.BatchNorm1d(500, momentum=0.9, eps=1e-05),\n",
        "                nn.Tanh(),\n",
        "                nn.Linear(500, 100),\n",
        "                nn.ReLU(),\n",
        "                nn.Linear(100, self.num_features),\n",
        "                nn.ReLU()\n",
        "            )\n",
        "    def forward(self, inp):\n",
        "        out1, _ = self.lstm(inp)\n",
        "        out1 = out1.reshape((-1, self.hidden_size * self.days))\n",
        "        out2 = self.decoder(out1)\n",
        "        out2 = out2.squeeze()\n",
        "        return out2"
      ]
    },
    {
      "cell_type": "code",
      "execution_count": null,
      "metadata": {
        "id": "GfCPGcuWT8mm"
      },
      "outputs": [],
      "source": [
        "class Discriminator(nn.Module):\n",
        "    '''\n",
        "    Discriminates between real data and fake data of DAYS + 1 days\n",
        "    '''\n",
        "    def __init__(self, num_features, c=5):\n",
        "        # c denotes flatenning constant\n",
        "        super().__init__()\n",
        "        self.c = c\n",
        "        self.num_features = num_features\n",
        "        self.convs = nn.Sequential(\n",
        "            nn.Conv1d(self.num_features, 32, kernel_size=5, stride=2),\n",
        "            nn.LeakyReLU(0.01),\n",
        "            nn.Conv1d(32, 64, kernel_size=5, stride=2),\n",
        "            nn.LeakyReLU(0.01),\n",
        "            nn.BatchNorm1d(64, momentum=0.9, eps=1e-05), \n",
        "            nn.Conv1d(64, 128, kernel_size=5, stride=2),\n",
        "            nn.LeakyReLU(0.01),\n",
        "            nn.BatchNorm1d(128, momentum=0.9, eps=1e-05),\n",
        "        )\n",
        "        self.dense = nn.Sequential(\n",
        "            nn.Linear(128 * self.c, 220),\n",
        "            nn.BatchNorm1d(220, momentum=0.9, eps=1e-05),\n",
        "            nn.LeakyReLU(0.01),\n",
        "            nn.Linear(220, 1),\n",
        "            nn.Sigmoid()\n",
        "        )\n",
        "        self.linear = nn.Sequential(\n",
        "            nn.Linear((DAYS + 1) * self.num_features, 200),\n",
        "            nn.BatchNorm1d(200, momentum=0.9, eps=1e-05),\n",
        "            nn.ReLU(), \n",
        "            nn.Linear(200, 50),\n",
        "            nn.ReLU(),\n",
        "            nn.Linear(50, 1),\n",
        "            nn.Sigmoid()\n",
        "        )\n",
        "    def forward(self, inp):\n",
        "        inp = torch.transpose(inp, 2, 1)\n",
        "        out1 = self.convs(inp)\n",
        "        out1 = out1.reshape(-1, 128 * self.c)\n",
        "        out2 = self.dense(out1)\n",
        "        out2 = out2.squeeze()\n",
        "        return out2\n",
        "        # inp = inp.view(-1, (DAYS + 1) * self.num_features)\n",
        "        # return self.linear(inp).squeeze()"
      ]
    },
    {
      "cell_type": "code",
      "execution_count": null,
      "metadata": {
        "id": "yjBKeY3RUCX0"
      },
      "outputs": [],
      "source": [
        "criterion = torch.nn.BCELoss()\n",
        "\n",
        "generator = Generator(TOTAL_FEATURES, DAYS)\n",
        "generator = generator.to(device)\n",
        "\n",
        "discriminator = Discriminator(TOTAL_FEATURES)\n",
        "discriminator = discriminator.to(device)\n",
        "    \n",
        "optimizer_G = torch.optim.Adam(generator.parameters(), lr=0.002)\n",
        "optimizer_D = torch.optim.Adam(discriminator.parameters(), lr=0.002)"
      ]
    },
    {
      "cell_type": "code",
      "execution_count": null,
      "metadata": {
        "id": "ujGlOvZ9T-7o"
      },
      "outputs": [],
      "source": [
        "NUM_EPOCHS = 50"
      ]
    },
    {
      "cell_type": "code",
      "execution_count": null,
      "metadata": {
        "colab": {
          "base_uri": "https://localhost:8080/"
        },
        "id": "QIeNZAmbUFRc",
        "outputId": "d397d685-5ead-4e54-8b01-be2de04545f1"
      },
      "outputs": [
        {
          "name": "stderr",
          "output_type": "stream",
          "text": [
            "100%|██████████| 12/12 [00:00<00:00, 13.59it/s]\n"
          ]
        },
        {
          "name": "stdout",
          "output_type": "stream",
          "text": [
            "epoch 1: g_loss=9.4972, d_loss=17.6637, accuracy=0.4567\n",
            "D(x): 0.489, D(G(z)): 0.487 0.492\n",
            "\n"
          ]
        },
        {
          "name": "stderr",
          "output_type": "stream",
          "text": [
            "100%|██████████| 12/12 [00:00<00:00, 15.93it/s]\n"
          ]
        },
        {
          "name": "stdout",
          "output_type": "stream",
          "text": [
            "epoch 2: g_loss=8.4515, d_loss=17.0833, accuracy=0.4567\n",
            "D(x): 0.499, D(G(z)): 0.497 0.496\n",
            "\n"
          ]
        },
        {
          "name": "stderr",
          "output_type": "stream",
          "text": [
            "100%|██████████| 12/12 [00:00<00:00, 15.81it/s]\n"
          ]
        },
        {
          "name": "stdout",
          "output_type": "stream",
          "text": [
            "epoch 3: g_loss=8.4887, d_loss=16.8076, accuracy=0.4567\n",
            "D(x): 0.502, D(G(z)): 0.500 0.501\n",
            "\n"
          ]
        },
        {
          "name": "stderr",
          "output_type": "stream",
          "text": [
            "100%|██████████| 12/12 [00:00<00:00, 15.88it/s]\n"
          ]
        },
        {
          "name": "stdout",
          "output_type": "stream",
          "text": [
            "epoch 4: g_loss=8.2601, d_loss=16.6734, accuracy=0.4567\n",
            "D(x): 0.504, D(G(z)): 0.502 0.499\n",
            "\n"
          ]
        },
        {
          "name": "stderr",
          "output_type": "stream",
          "text": [
            "100%|██████████| 12/12 [00:00<00:00, 16.03it/s]\n"
          ]
        },
        {
          "name": "stdout",
          "output_type": "stream",
          "text": [
            "epoch 5: g_loss=8.4763, d_loss=16.5699, accuracy=0.4567\n",
            "D(x): 0.506, D(G(z)): 0.501 0.503\n",
            "\n"
          ]
        },
        {
          "name": "stderr",
          "output_type": "stream",
          "text": [
            "100%|██████████| 12/12 [00:00<00:00, 16.05it/s]\n"
          ]
        },
        {
          "name": "stdout",
          "output_type": "stream",
          "text": [
            "epoch 6: g_loss=8.3465, d_loss=16.4901, accuracy=0.4567\n",
            "D(x): 0.504, D(G(z)): 0.496 0.496\n",
            "\n"
          ]
        },
        {
          "name": "stderr",
          "output_type": "stream",
          "text": [
            "100%|██████████| 12/12 [00:00<00:00, 15.77it/s]\n"
          ]
        },
        {
          "name": "stdout",
          "output_type": "stream",
          "text": [
            "epoch 7: g_loss=8.4462, d_loss=16.3794, accuracy=0.4567\n",
            "D(x): 0.513, D(G(z)): 0.499 0.498\n",
            "\n"
          ]
        },
        {
          "name": "stderr",
          "output_type": "stream",
          "text": [
            "100%|██████████| 12/12 [00:00<00:00, 16.15it/s]\n"
          ]
        },
        {
          "name": "stdout",
          "output_type": "stream",
          "text": [
            "epoch 8: g_loss=8.5281, d_loss=16.2501, accuracy=0.4567\n",
            "D(x): 0.514, D(G(z)): 0.494 0.492\n",
            "\n"
          ]
        },
        {
          "name": "stderr",
          "output_type": "stream",
          "text": [
            "100%|██████████| 12/12 [00:00<00:00, 15.96it/s]\n"
          ]
        },
        {
          "name": "stdout",
          "output_type": "stream",
          "text": [
            "epoch 9: g_loss=8.7631, d_loss=16.0646, accuracy=0.4567\n",
            "D(x): 0.529, D(G(z)): 0.500 0.497\n",
            "\n"
          ]
        },
        {
          "name": "stderr",
          "output_type": "stream",
          "text": [
            "100%|██████████| 12/12 [00:00<00:00, 15.91it/s]\n"
          ]
        },
        {
          "name": "stdout",
          "output_type": "stream",
          "text": [
            "epoch 10: g_loss=8.9752, d_loss=15.8825, accuracy=0.4567\n",
            "D(x): 0.526, D(G(z)): 0.481 0.473\n",
            "\n"
          ]
        },
        {
          "name": "stderr",
          "output_type": "stream",
          "text": [
            "100%|██████████| 12/12 [00:00<00:00, 16.01it/s]\n"
          ]
        },
        {
          "name": "stdout",
          "output_type": "stream",
          "text": [
            "epoch 11: g_loss=9.1626, d_loss=15.6876, accuracy=0.4567\n",
            "D(x): 0.532, D(G(z)): 0.488 0.480\n",
            "\n"
          ]
        },
        {
          "name": "stderr",
          "output_type": "stream",
          "text": [
            "100%|██████████| 12/12 [00:00<00:00, 15.70it/s]\n"
          ]
        },
        {
          "name": "stdout",
          "output_type": "stream",
          "text": [
            "epoch 12: g_loss=9.2030, d_loss=16.1747, accuracy=0.4600\n",
            "D(x): 0.518, D(G(z)): 0.478 0.475\n",
            "\n"
          ]
        },
        {
          "name": "stderr",
          "output_type": "stream",
          "text": [
            "100%|██████████| 12/12 [00:00<00:00, 16.12it/s]\n"
          ]
        },
        {
          "name": "stdout",
          "output_type": "stream",
          "text": [
            "epoch 13: g_loss=9.0639, d_loss=15.8851, accuracy=0.4895\n",
            "D(x): 0.547, D(G(z)): 0.515 0.501\n",
            "\n"
          ]
        },
        {
          "name": "stderr",
          "output_type": "stream",
          "text": [
            "100%|██████████| 12/12 [00:00<00:00, 16.12it/s]\n"
          ]
        },
        {
          "name": "stdout",
          "output_type": "stream",
          "text": [
            "epoch 14: g_loss=9.4879, d_loss=15.9183, accuracy=0.4869\n",
            "D(x): 0.532, D(G(z)): 0.487 0.483\n",
            "\n"
          ]
        },
        {
          "name": "stderr",
          "output_type": "stream",
          "text": [
            "100%|██████████| 12/12 [00:00<00:00, 16.14it/s]\n"
          ]
        },
        {
          "name": "stdout",
          "output_type": "stream",
          "text": [
            "epoch 15: g_loss=9.4280, d_loss=15.8208, accuracy=0.5013\n",
            "D(x): 0.519, D(G(z)): 0.473 0.460\n",
            "\n"
          ]
        },
        {
          "name": "stderr",
          "output_type": "stream",
          "text": [
            "100%|██████████| 12/12 [00:00<00:00, 16.11it/s]\n"
          ]
        },
        {
          "name": "stdout",
          "output_type": "stream",
          "text": [
            "epoch 16: g_loss=9.4730, d_loss=15.5650, accuracy=0.4764\n",
            "D(x): 0.562, D(G(z)): 0.486 0.466\n",
            "\n"
          ]
        },
        {
          "name": "stderr",
          "output_type": "stream",
          "text": [
            "100%|██████████| 12/12 [00:00<00:00, 16.00it/s]\n"
          ]
        },
        {
          "name": "stdout",
          "output_type": "stream",
          "text": [
            "epoch 17: g_loss=10.5319, d_loss=14.6743, accuracy=0.4817\n",
            "D(x): 0.567, D(G(z)): 0.448 0.437\n",
            "\n"
          ]
        },
        {
          "name": "stderr",
          "output_type": "stream",
          "text": [
            "100%|██████████| 12/12 [00:00<00:00, 16.00it/s]\n"
          ]
        },
        {
          "name": "stdout",
          "output_type": "stream",
          "text": [
            "epoch 18: g_loss=10.2896, d_loss=14.6508, accuracy=0.5026\n",
            "D(x): 0.561, D(G(z)): 0.397 0.396\n",
            "\n"
          ]
        },
        {
          "name": "stderr",
          "output_type": "stream",
          "text": [
            "100%|██████████| 12/12 [00:00<00:00, 16.03it/s]\n"
          ]
        },
        {
          "name": "stdout",
          "output_type": "stream",
          "text": [
            "epoch 19: g_loss=10.8513, d_loss=14.0358, accuracy=0.4817\n",
            "D(x): 0.612, D(G(z)): 0.415 0.399\n",
            "\n"
          ]
        },
        {
          "name": "stderr",
          "output_type": "stream",
          "text": [
            "100%|██████████| 12/12 [00:00<00:00, 16.05it/s]\n"
          ]
        },
        {
          "name": "stdout",
          "output_type": "stream",
          "text": [
            "epoch 20: g_loss=11.5529, d_loss=13.5151, accuracy=0.5033\n",
            "D(x): 0.609, D(G(z)): 0.378 0.347\n",
            "\n"
          ]
        },
        {
          "name": "stderr",
          "output_type": "stream",
          "text": [
            "100%|██████████| 12/12 [00:00<00:00, 16.09it/s]\n"
          ]
        },
        {
          "name": "stdout",
          "output_type": "stream",
          "text": [
            "epoch 21: g_loss=12.0542, d_loss=13.4381, accuracy=0.5052\n",
            "D(x): 0.640, D(G(z)): 0.448 0.412\n",
            "\n"
          ]
        },
        {
          "name": "stderr",
          "output_type": "stream",
          "text": [
            "100%|██████████| 12/12 [00:00<00:00, 16.14it/s]\n"
          ]
        },
        {
          "name": "stdout",
          "output_type": "stream",
          "text": [
            "epoch 22: g_loss=12.9225, d_loss=13.8388, accuracy=0.5138\n",
            "D(x): 0.570, D(G(z)): 0.374 0.380\n",
            "\n"
          ]
        },
        {
          "name": "stderr",
          "output_type": "stream",
          "text": [
            "100%|██████████| 12/12 [00:00<00:00, 16.03it/s]\n"
          ]
        },
        {
          "name": "stdout",
          "output_type": "stream",
          "text": [
            "epoch 23: g_loss=11.9405, d_loss=12.6704, accuracy=0.5026\n",
            "D(x): 0.665, D(G(z)): 0.365 0.337\n",
            "\n"
          ]
        },
        {
          "name": "stderr",
          "output_type": "stream",
          "text": [
            "100%|██████████| 12/12 [00:00<00:00, 16.11it/s]\n"
          ]
        },
        {
          "name": "stdout",
          "output_type": "stream",
          "text": [
            "epoch 24: g_loss=14.6704, d_loss=12.2636, accuracy=0.4771\n",
            "D(x): 0.663, D(G(z)): 0.312 0.312\n",
            "\n"
          ]
        },
        {
          "name": "stderr",
          "output_type": "stream",
          "text": [
            "100%|██████████| 12/12 [00:00<00:00, 15.80it/s]\n"
          ]
        },
        {
          "name": "stdout",
          "output_type": "stream",
          "text": [
            "epoch 25: g_loss=13.6858, d_loss=12.1375, accuracy=0.4928\n",
            "D(x): 0.665, D(G(z)): 0.287 0.278\n",
            "\n"
          ]
        },
        {
          "name": "stderr",
          "output_type": "stream",
          "text": [
            "100%|██████████| 12/12 [00:00<00:00, 15.90it/s]\n"
          ]
        },
        {
          "name": "stdout",
          "output_type": "stream",
          "text": [
            "epoch 26: g_loss=15.4350, d_loss=11.2064, accuracy=0.4954\n",
            "D(x): 0.717, D(G(z)): 0.336 0.302\n",
            "\n"
          ]
        },
        {
          "name": "stderr",
          "output_type": "stream",
          "text": [
            "100%|██████████| 12/12 [00:00<00:00, 15.73it/s]\n"
          ]
        },
        {
          "name": "stdout",
          "output_type": "stream",
          "text": [
            "epoch 27: g_loss=17.9450, d_loss=9.8488, accuracy=0.5098\n",
            "D(x): 0.664, D(G(z)): 0.237 0.219\n",
            "\n"
          ]
        },
        {
          "name": "stderr",
          "output_type": "stream",
          "text": [
            "100%|██████████| 12/12 [00:00<00:00, 16.18it/s]\n"
          ]
        },
        {
          "name": "stdout",
          "output_type": "stream",
          "text": [
            "epoch 28: g_loss=16.4932, d_loss=9.5777, accuracy=0.4784\n",
            "D(x): 0.758, D(G(z)): 0.297 0.270\n",
            "\n"
          ]
        },
        {
          "name": "stderr",
          "output_type": "stream",
          "text": [
            "100%|██████████| 12/12 [00:00<00:00, 16.10it/s]\n"
          ]
        },
        {
          "name": "stdout",
          "output_type": "stream",
          "text": [
            "epoch 29: g_loss=19.6359, d_loss=8.5653, accuracy=0.4921\n",
            "D(x): 0.784, D(G(z)): 0.161 0.150\n",
            "\n"
          ]
        },
        {
          "name": "stderr",
          "output_type": "stream",
          "text": [
            "100%|██████████| 12/12 [00:00<00:00, 16.05it/s]\n"
          ]
        },
        {
          "name": "stdout",
          "output_type": "stream",
          "text": [
            "epoch 30: g_loss=19.7011, d_loss=8.2947, accuracy=0.5085\n",
            "D(x): 0.794, D(G(z)): 0.126 0.131\n",
            "\n"
          ]
        },
        {
          "name": "stderr",
          "output_type": "stream",
          "text": [
            "100%|██████████| 12/12 [00:00<00:00, 16.02it/s]\n"
          ]
        },
        {
          "name": "stdout",
          "output_type": "stream",
          "text": [
            "epoch 31: g_loss=22.4711, d_loss=7.1238, accuracy=0.5157\n",
            "D(x): 0.845, D(G(z)): 0.172 0.164\n",
            "\n"
          ]
        },
        {
          "name": "stderr",
          "output_type": "stream",
          "text": [
            "100%|██████████| 12/12 [00:00<00:00, 16.16it/s]\n"
          ]
        },
        {
          "name": "stdout",
          "output_type": "stream",
          "text": [
            "epoch 32: g_loss=21.4089, d_loss=7.2632, accuracy=0.5105\n",
            "D(x): 0.813, D(G(z)): 0.125 0.122\n",
            "\n"
          ]
        },
        {
          "name": "stderr",
          "output_type": "stream",
          "text": [
            "100%|██████████| 12/12 [00:00<00:00, 16.08it/s]\n"
          ]
        },
        {
          "name": "stdout",
          "output_type": "stream",
          "text": [
            "epoch 33: g_loss=24.6191, d_loss=6.0751, accuracy=0.5072\n",
            "D(x): 0.872, D(G(z)): 0.152 0.151\n",
            "\n"
          ]
        },
        {
          "name": "stderr",
          "output_type": "stream",
          "text": [
            "100%|██████████| 12/12 [00:00<00:00, 16.05it/s]\n"
          ]
        },
        {
          "name": "stdout",
          "output_type": "stream",
          "text": [
            "epoch 34: g_loss=25.8102, d_loss=6.7718, accuracy=0.5295\n",
            "D(x): 0.702, D(G(z)): 0.093 0.087\n",
            "\n"
          ]
        },
        {
          "name": "stderr",
          "output_type": "stream",
          "text": [
            "100%|██████████| 12/12 [00:00<00:00, 15.99it/s]\n"
          ]
        },
        {
          "name": "stdout",
          "output_type": "stream",
          "text": [
            "epoch 35: g_loss=30.1593, d_loss=5.8319, accuracy=0.4856\n",
            "D(x): 0.866, D(G(z)): 0.088 0.093\n",
            "\n"
          ]
        },
        {
          "name": "stderr",
          "output_type": "stream",
          "text": [
            "100%|██████████| 12/12 [00:00<00:00, 15.94it/s]\n"
          ]
        },
        {
          "name": "stdout",
          "output_type": "stream",
          "text": [
            "epoch 36: g_loss=27.8595, d_loss=5.5414, accuracy=0.4967\n",
            "D(x): 0.866, D(G(z)): 0.094 0.086\n",
            "\n"
          ]
        },
        {
          "name": "stderr",
          "output_type": "stream",
          "text": [
            "100%|██████████| 12/12 [00:00<00:00, 16.16it/s]\n"
          ]
        },
        {
          "name": "stdout",
          "output_type": "stream",
          "text": [
            "epoch 37: g_loss=32.3672, d_loss=3.7904, accuracy=0.5033\n",
            "D(x): 0.921, D(G(z)): 0.069 0.072\n",
            "\n"
          ]
        },
        {
          "name": "stderr",
          "output_type": "stream",
          "text": [
            "100%|██████████| 12/12 [00:00<00:00, 16.03it/s]\n"
          ]
        },
        {
          "name": "stdout",
          "output_type": "stream",
          "text": [
            "epoch 38: g_loss=30.5648, d_loss=3.0965, accuracy=0.4961\n",
            "D(x): 0.931, D(G(z)): 0.090 0.083\n",
            "\n"
          ]
        },
        {
          "name": "stderr",
          "output_type": "stream",
          "text": [
            "100%|██████████| 12/12 [00:00<00:00, 15.64it/s]\n"
          ]
        },
        {
          "name": "stdout",
          "output_type": "stream",
          "text": [
            "epoch 39: g_loss=32.8600, d_loss=2.7108, accuracy=0.5387\n",
            "D(x): 0.940, D(G(z)): 0.054 0.053\n",
            "\n"
          ]
        },
        {
          "name": "stderr",
          "output_type": "stream",
          "text": [
            "100%|██████████| 12/12 [00:00<00:00, 15.86it/s]\n"
          ]
        },
        {
          "name": "stdout",
          "output_type": "stream",
          "text": [
            "epoch 40: g_loss=36.6371, d_loss=2.0052, accuracy=0.5367\n",
            "D(x): 0.951, D(G(z)): 0.044 0.042\n",
            "\n"
          ]
        },
        {
          "name": "stderr",
          "output_type": "stream",
          "text": [
            "100%|██████████| 12/12 [00:00<00:00, 16.07it/s]\n"
          ]
        },
        {
          "name": "stdout",
          "output_type": "stream",
          "text": [
            "epoch 41: g_loss=39.9178, d_loss=1.5972, accuracy=0.5157\n",
            "D(x): 0.955, D(G(z)): 0.033 0.032\n",
            "\n"
          ]
        },
        {
          "name": "stderr",
          "output_type": "stream",
          "text": [
            "100%|██████████| 12/12 [00:00<00:00, 15.92it/s]\n"
          ]
        },
        {
          "name": "stdout",
          "output_type": "stream",
          "text": [
            "epoch 42: g_loss=42.9375, d_loss=1.1373, accuracy=0.5229\n",
            "D(x): 0.961, D(G(z)): 0.025 0.024\n",
            "\n"
          ]
        },
        {
          "name": "stderr",
          "output_type": "stream",
          "text": [
            "100%|██████████| 12/12 [00:00<00:00, 15.98it/s]\n"
          ]
        },
        {
          "name": "stdout",
          "output_type": "stream",
          "text": [
            "epoch 43: g_loss=45.1478, d_loss=0.9216, accuracy=0.5282\n",
            "D(x): 0.967, D(G(z)): 0.024 0.023\n",
            "\n"
          ]
        },
        {
          "name": "stderr",
          "output_type": "stream",
          "text": [
            "100%|██████████| 12/12 [00:00<00:00, 15.94it/s]\n"
          ]
        },
        {
          "name": "stdout",
          "output_type": "stream",
          "text": [
            "epoch 44: g_loss=46.3885, d_loss=0.7610, accuracy=0.5367\n",
            "D(x): 0.971, D(G(z)): 0.024 0.023\n",
            "\n"
          ]
        },
        {
          "name": "stderr",
          "output_type": "stream",
          "text": [
            "100%|██████████| 12/12 [00:00<00:00, 16.02it/s]\n"
          ]
        },
        {
          "name": "stdout",
          "output_type": "stream",
          "text": [
            "epoch 45: g_loss=48.7911, d_loss=0.6239, accuracy=0.5216\n",
            "D(x): 0.975, D(G(z)): 0.018 0.017\n",
            "\n"
          ]
        },
        {
          "name": "stderr",
          "output_type": "stream",
          "text": [
            "100%|██████████| 12/12 [00:00<00:00, 16.02it/s]\n"
          ]
        },
        {
          "name": "stdout",
          "output_type": "stream",
          "text": [
            "epoch 46: g_loss=49.3474, d_loss=0.5462, accuracy=0.5256\n",
            "D(x): 0.979, D(G(z)): 0.021 0.021\n",
            "\n"
          ]
        },
        {
          "name": "stderr",
          "output_type": "stream",
          "text": [
            "100%|██████████| 12/12 [00:00<00:00, 16.16it/s]\n"
          ]
        },
        {
          "name": "stdout",
          "output_type": "stream",
          "text": [
            "epoch 47: g_loss=50.2667, d_loss=0.5100, accuracy=0.5262\n",
            "D(x): 0.980, D(G(z)): 0.015 0.014\n",
            "\n"
          ]
        },
        {
          "name": "stderr",
          "output_type": "stream",
          "text": [
            "100%|██████████| 12/12 [00:00<00:00, 15.87it/s]\n"
          ]
        },
        {
          "name": "stdout",
          "output_type": "stream",
          "text": [
            "epoch 48: g_loss=51.6376, d_loss=0.4532, accuracy=0.5393\n",
            "D(x): 0.981, D(G(z)): 0.013 0.013\n",
            "\n"
          ]
        },
        {
          "name": "stderr",
          "output_type": "stream",
          "text": [
            "100%|██████████| 12/12 [00:00<00:00, 15.85it/s]\n"
          ]
        },
        {
          "name": "stdout",
          "output_type": "stream",
          "text": [
            "epoch 49: g_loss=52.9907, d_loss=0.4069, accuracy=0.5380\n",
            "D(x): 0.983, D(G(z)): 0.013 0.013\n",
            "\n"
          ]
        },
        {
          "name": "stderr",
          "output_type": "stream",
          "text": [
            "100%|██████████| 12/12 [00:00<00:00, 16.02it/s]"
          ]
        },
        {
          "name": "stdout",
          "output_type": "stream",
          "text": [
            "epoch 50: g_loss=54.4755, d_loss=0.3567, accuracy=0.5367\n",
            "D(x): 0.985, D(G(z)): 0.011 0.011\n",
            "\n"
          ]
        },
        {
          "name": "stderr",
          "output_type": "stream",
          "text": [
            "\n"
          ]
        }
      ],
      "source": [
        "for epoch in range(NUM_EPOCHS):\n",
        "    running_G_loss, running_D_loss = 0, 0\n",
        "    correct, cnt = 0, 0\n",
        "    for data in tqdm(train_dataloader):\n",
        "        #### discriminator \n",
        "        discriminator.zero_grad()\n",
        "        data = data.to(device)\n",
        "        real_prev, real_now = data[:, :-1], data[:, -1]\n",
        "        labels = torch.ones(len(data)).float().to(device)\n",
        "        \n",
        "        ## real\n",
        "        # forward\n",
        "        output = discriminator(data)\n",
        "        # loss\n",
        "        error_D_real = criterion(output, labels)\n",
        "        error_D_real.backward()\n",
        "        D_x = output.mean().item()\n",
        "\n",
        "        ## fake\n",
        "        labels.fill_(0)\n",
        "        # forward on generator\n",
        "        fake_now = generator(real_prev)\n",
        "        fake = torch.hstack((real_prev, fake_now.unsqueeze(1)))\n",
        "        # forward on discriminator\n",
        "        output = discriminator(fake.detach())\n",
        "        # loss\n",
        "        error_D_fake = criterion(output, labels)\n",
        "        error_D_fake.backward()\n",
        "        D_G_z1 = output.mean().item()\n",
        "        \n",
        "        # step\n",
        "        optimizer_D.step()\n",
        "\n",
        "        #### generator\n",
        "        labels.fill_(1)\n",
        "        optimizer_G.zero_grad()\n",
        "        # calculate discriminator output\n",
        "        output = discriminator(fake)\n",
        "        # loss\n",
        "        error_G = criterion(output, labels)\n",
        "        error_G.backward()\n",
        "        D_G_z2 = output.mean().item()\n",
        "        # step\n",
        "        optimizer_G.step()\n",
        "        \n",
        "        error_D = error_D_real + error_D_fake\n",
        "        running_D_loss += error_D.item()\n",
        "        running_G_loss += error_G.item()\n",
        "        real_up = real_now[:, 0] > real_prev[:, -1, 0]\n",
        "        fake_up = fake_now[:, 0] > real_prev[:, -1, 0]\n",
        "        correct += (real_up == fake_up).sum().item()\n",
        "        cnt += len(data)\n",
        "\n",
        "    correct /= cnt        \n",
        "    print(f'epoch {epoch + 1}: g_loss={running_G_loss:.4f}, d_loss={running_D_loss:.4f}, accuracy={correct:.4f}')        \n",
        "    print(f'D(x): {D_x:.3f}, D(G(z)): {D_G_z1:.3f} {D_G_z2:.3f}')\n",
        "    print()"
      ]
    },
    {
      "cell_type": "code",
      "execution_count": null,
      "metadata": {
        "colab": {
          "base_uri": "https://localhost:8080/"
        },
        "id": "aZgZHs45gmCD",
        "outputId": "8b1d4244-5689-46fc-ba08-d0fa876af97b"
      },
      "outputs": [
        {
          "data": {
            "text/plain": [
              "Generator(\n",
              "  (lstm): LSTM(6, 150, batch_first=True)\n",
              "  (decoder): Sequential(\n",
              "    (0): Linear(in_features=9000, out_features=2000, bias=True)\n",
              "    (1): BatchNorm1d(2000, eps=1e-05, momentum=0.9, affine=True, track_running_stats=True)\n",
              "    (2): Tanh()\n",
              "    (3): Linear(in_features=2000, out_features=500, bias=True)\n",
              "    (4): BatchNorm1d(500, eps=1e-05, momentum=0.9, affine=True, track_running_stats=True)\n",
              "    (5): Tanh()\n",
              "    (6): Linear(in_features=500, out_features=100, bias=True)\n",
              "    (7): ReLU()\n",
              "    (8): Linear(in_features=100, out_features=6, bias=True)\n",
              "    (9): ReLU()\n",
              "  )\n",
              ")"
            ]
          },
          "execution_count": 153,
          "metadata": {},
          "output_type": "execute_result"
        }
      ],
      "source": [
        "generator.eval()"
      ]
    },
    {
      "cell_type": "code",
      "execution_count": null,
      "metadata": {
        "colab": {
          "base_uri": "https://localhost:8080/"
        },
        "id": "ERPBbq19Y9og",
        "outputId": "3e930ec2-b313-4c5b-f248-b994fe1aa43e"
      },
      "outputs": [
        {
          "name": "stdout",
          "output_type": "stream",
          "text": [
            "Accuracy on train set: 0.5445609436435125\n"
          ]
        }
      ],
      "source": [
        "correct = 0\n",
        "real_closing, fake_closing = [], []\n",
        "for i in range(len(train_ds)):\n",
        "    data = train_ds[i].to(device)\n",
        "    data = data.unsqueeze(0)\n",
        "    real_prev, real_now = data[:, :-1], data[:, -1]\n",
        "    fake_now = generator(real_prev)\n",
        "    real_up = real_now[:, 0] > real_prev[:, -1, 0]\n",
        "    fake_up = fake_now[0] > real_prev[:, -1, 0]\n",
        "    correct += (real_up == fake_up).item()\n",
        "    real_closing.append(int(real_up.item()))\n",
        "    fake_closing.append(int(fake_up.item()))\n",
        "correct /= len(train_ds)\n",
        "print(f'Accuracy on train set: {correct}')"
      ]
    },
    {
      "cell_type": "code",
      "execution_count": null,
      "metadata": {
        "colab": {
          "base_uri": "https://localhost:8080/"
        },
        "id": "0XpxmLHdRBqz",
        "outputId": "cd4c4860-2b8a-4c81-bacb-81e18617da98"
      },
      "outputs": [
        {
          "name": "stdout",
          "output_type": "stream",
          "text": [
            "Accuracy on test set: 0.5037783375314862\n"
          ]
        }
      ],
      "source": [
        "correct = 0\n",
        "real_closing, fake_closing = [], []\n",
        "for i in range(len(test_ds)):\n",
        "    data = test_ds[i].to(device)\n",
        "    data = data.unsqueeze(0)\n",
        "    real_prev, real_now = data[:, :-1], data[:, -1]\n",
        "    fake_now = generator(real_prev)\n",
        "    real_up = real_now[:, 0] > real_prev[:, -1, 0]\n",
        "    fake_up = fake_now[0] > real_prev[:, -1, 0]\n",
        "    correct += (real_up == fake_up).item()\n",
        "    real_closing.append(int(real_up.item()))\n",
        "    fake_closing.append(int(fake_up.item()))\n",
        "correct /= len(test_ds)\n",
        "print(f'Accuracy on test set: {correct}')"
      ]
    }
  ],
  "metadata": {
    "accelerator": "GPU",
    "colab": {
      "collapsed_sections": [],
      "name": "ml-pg-project-gans.ipynb",
      "provenance": []
    },
    "kernelspec": {
      "display_name": "Python 3",
      "name": "python3"
    },
    "language_info": {
      "name": "python"
    }
  },
  "nbformat": 4,
  "nbformat_minor": 0
}
