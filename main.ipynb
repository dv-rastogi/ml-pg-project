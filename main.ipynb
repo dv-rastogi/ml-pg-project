{
 "cells": [
  {
   "cell_type": "markdown",
   "source": [
    "## PCA + ANN Baseline\n",
    "* Reference paper: https://jfin-swufe.springeropen.com/track/pdf/10.1186/s40854-019-0138-0.pdf"
   ],
   "metadata": {}
  },
  {
   "cell_type": "code",
   "execution_count": 29,
   "source": [
    "import pandas as pd\n",
    "import pandas as pd\n",
    "import torch.utils.data as Data\n",
    "import torch\n",
    "import torch.nn as nn\n",
    "from sklearn.decomposition import PCA\n",
    "pd.set_option('display.max_columns', 500)"
   ],
   "outputs": [],
   "metadata": {}
  },
  {
   "cell_type": "code",
   "execution_count": 30,
   "source": [
    "base_df = pd.read_csv('data/Processed_S&P.csv')"
   ],
   "outputs": [],
   "metadata": {}
  },
  {
   "cell_type": "markdown",
   "source": [
    "## Preprocessing"
   ],
   "metadata": {}
  },
  {
   "cell_type": "code",
   "execution_count": 31,
   "source": [
    "base_df['Date'] = pd.to_datetime(base_df['Date'], format='%Y-%m-%d')\n",
    "base_df.sort_values(by='Date', inplace=True)\n",
    "base_df.drop(columns=['Name', 'Date'], axis=1, inplace=True)"
   ],
   "outputs": [],
   "metadata": {}
  },
  {
   "cell_type": "code",
   "execution_count": 32,
   "source": [
    "base_df.fillna(0, inplace=True)"
   ],
   "outputs": [],
   "metadata": {}
  },
  {
   "cell_type": "code",
   "execution_count": 33,
   "source": [
    "# detect outliers\n",
    "for col in base_df.columns:\n",
    "    q1, q3 = base_df[col].quantile([0.25, 0.75])\n",
    "    iqr = q3 - q1\n",
    "    lb, rb = q1 - 1.5 * iqr, q3 + 1.5 * iqr\n",
    "    for i in range(len(base_df)):\n",
    "        if base_df[col][i] > rb:\n",
    "            base_df[col][i] = rb\n",
    "        if base_df[col][i] < lb:\n",
    "            base_df[col][i] = lb"
   ],
   "outputs": [],
   "metadata": {}
  },
  {
   "cell_type": "markdown",
   "source": [
    "## Dataloader\n",
    "* PCA with n_components = 82"
   ],
   "metadata": {}
  },
  {
   "cell_type": "code",
   "execution_count": 34,
   "source": [
    "class MarketDataset(Data.Dataset):\n",
    "    DATA_PATH = 'data/Processed_S&P.csv'\n",
    "    TRAIN_RATIO = 0.7\n",
    "    VALIDATION_RATIO = 0.15\n",
    "    TEST_RATIO = 0.15\n",
    "\n",
    "    def __init__(self, test=False, pca=None):\n",
    "        global base_df\n",
    "        if test:\n",
    "            df = base_df.iloc[int((1 - MarketDataset.TEST_RATIO) * len(base_df)):]\n",
    "            assert (pca is not None)\n",
    "            self.X = pca.transform(df)\n",
    "        else:\n",
    "            df = base_df.iloc[:int((1 - MarketDataset.TEST_RATIO) * len(base_df))]\n",
    "            self.mean = df.mean()\n",
    "            self.std = df.std()\n",
    "            df = (df - self.mean) / self.std\n",
    "            self.pca = PCA()\n",
    "            self.pca.fit(df)\n",
    "            self.X = self.pca.transform(df)\n",
    "            \n",
    "        self.X = torch.tensor(self.X).float()\n",
    "        self.df = df\n",
    "\n",
    "    def get_label(self, idx):\n",
    "        return torch.tensor([float(self.df['Close'][idx + 1] > self.df['Close'][idx])])\n",
    "\n",
    "    def __getitem__(self, idx):\n",
    "        return self.X[idx], self.get_label(idx)\n",
    "\n",
    "    def __len__(self):\n",
    "        return len(self.X) - 1\n",
    "\n",
    "train_ds = MarketDataset(test=False)"
   ],
   "outputs": [],
   "metadata": {}
  },
  {
   "cell_type": "code",
   "execution_count": 35,
   "source": [
    "model = nn.Sequential(\n",
    "    nn.Linear(82, 82), \n",
    "    nn.ReLU(),\n",
    "    nn.Linear(82, 41),\n",
    "    nn.ReLU(),\n",
    "    nn.Linear(41, 20),\n",
    "    nn.ReLU(),\n",
    "    nn.Linear(20, 10),\n",
    "    nn.ReLU(),\n",
    "    nn.Linear(10, 5),\n",
    "    nn.ReLU(),\n",
    "    nn.Linear(5, 1),\n",
    "    nn.Sigmoid()\n",
    ")\n",
    "criterion = nn.BCELoss()\n",
    "optimizer = torch.optim.Adam(model.parameters(), lr=0.001)\n",
    "\n",
    "epochs = 100\n",
    "for e in range(epochs):\n",
    "    running_loss = 0\n",
    "    accuracy = 0\n",
    "    for i in range(len(train_ds)):\n",
    "        X, Y = train_ds[i]\n",
    "        optimizer.zero_grad()\n",
    "        output = model(X)\n",
    "        accuracy += int(output[0] >= 0.5) == int(Y[0])\n",
    "        loss = criterion(output, Y)\n",
    "        loss.backward()\n",
    "        optimizer.step()\n",
    "        running_loss += loss.item()\n",
    "    print(f'Epoch {e}')\n",
    "    print(f'Training loss: {running_loss / len(train_ds)}')\n",
    "    print(f'Accuracy: {accuracy / len(train_ds)}')"
   ],
   "outputs": [
    {
     "output_type": "stream",
     "name": "stdout",
     "text": [
      "Epoch 0\n",
      "Training loss: 0.705431390445381\n",
      "Accuracy: 0.45578635014836794\n",
      "Epoch 1\n",
      "Training loss: 0.69120494860393\n",
      "Accuracy: 0.5465875370919882\n",
      "Epoch 2\n",
      "Training loss: 0.681382850979839\n",
      "Accuracy: 0.5691394658753709\n",
      "Epoch 3\n",
      "Training loss: 0.6657873709009027\n",
      "Accuracy: 0.6160237388724036\n",
      "Epoch 4\n",
      "Training loss: 0.6462225256979642\n",
      "Accuracy: 0.6356083086053412\n",
      "Epoch 5\n",
      "Training loss: 0.6129042134352183\n",
      "Accuracy: 0.6777448071216617\n",
      "Epoch 6\n",
      "Training loss: 0.5754708726788134\n",
      "Accuracy: 0.7050445103857567\n",
      "Epoch 7\n",
      "Training loss: 0.5230725060360788\n",
      "Accuracy: 0.7359050445103857\n",
      "Epoch 8\n",
      "Training loss: 0.46779226195816787\n",
      "Accuracy: 0.7774480712166172\n",
      "Epoch 9\n",
      "Training loss: 0.4115459620569744\n",
      "Accuracy: 0.8112759643916914\n",
      "Epoch 10\n",
      "Training loss: 0.3657210823491981\n",
      "Accuracy: 0.8427299703264095\n",
      "Epoch 11\n",
      "Training loss: 0.3333219807252474\n",
      "Accuracy: 0.855192878338279\n"
     ]
    },
    {
     "output_type": "error",
     "ename": "KeyboardInterrupt",
     "evalue": "",
     "traceback": [
      "\u001b[0;31m---------------------------------------------------------------------------\u001b[0m",
      "\u001b[0;31mKeyboardInterrupt\u001b[0m                         Traceback (most recent call last)",
      "\u001b[0;32m<ipython-input-35-804f846801b4>\u001b[0m in \u001b[0;36m<module>\u001b[0;34m\u001b[0m\n\u001b[1;32m     21\u001b[0m     \u001b[0maccuracy\u001b[0m \u001b[0;34m=\u001b[0m \u001b[0;36m0\u001b[0m\u001b[0;34m\u001b[0m\u001b[0;34m\u001b[0m\u001b[0m\n\u001b[1;32m     22\u001b[0m     \u001b[0;32mfor\u001b[0m \u001b[0mi\u001b[0m \u001b[0;32min\u001b[0m \u001b[0mrange\u001b[0m\u001b[0;34m(\u001b[0m\u001b[0mlen\u001b[0m\u001b[0;34m(\u001b[0m\u001b[0mtrain_ds\u001b[0m\u001b[0;34m)\u001b[0m\u001b[0;34m)\u001b[0m\u001b[0;34m:\u001b[0m\u001b[0;34m\u001b[0m\u001b[0;34m\u001b[0m\u001b[0m\n\u001b[0;32m---> 23\u001b[0;31m         \u001b[0mX\u001b[0m\u001b[0;34m,\u001b[0m \u001b[0mY\u001b[0m \u001b[0;34m=\u001b[0m \u001b[0mtrain_ds\u001b[0m\u001b[0;34m[\u001b[0m\u001b[0mi\u001b[0m\u001b[0;34m]\u001b[0m\u001b[0;34m\u001b[0m\u001b[0;34m\u001b[0m\u001b[0m\n\u001b[0m\u001b[1;32m     24\u001b[0m         \u001b[0moptimizer\u001b[0m\u001b[0;34m.\u001b[0m\u001b[0mzero_grad\u001b[0m\u001b[0;34m(\u001b[0m\u001b[0;34m)\u001b[0m\u001b[0;34m\u001b[0m\u001b[0;34m\u001b[0m\u001b[0m\n\u001b[1;32m     25\u001b[0m         \u001b[0moutput\u001b[0m \u001b[0;34m=\u001b[0m \u001b[0mmodel\u001b[0m\u001b[0;34m(\u001b[0m\u001b[0mX\u001b[0m\u001b[0;34m)\u001b[0m\u001b[0;34m\u001b[0m\u001b[0;34m\u001b[0m\u001b[0m\n",
      "\u001b[0;32m<ipython-input-34-9bb437e8ff36>\u001b[0m in \u001b[0;36m__getitem__\u001b[0;34m(self, idx)\u001b[0m\n\u001b[1;32m     27\u001b[0m \u001b[0;34m\u001b[0m\u001b[0m\n\u001b[1;32m     28\u001b[0m     \u001b[0;32mdef\u001b[0m \u001b[0m__getitem__\u001b[0m\u001b[0;34m(\u001b[0m\u001b[0mself\u001b[0m\u001b[0;34m,\u001b[0m \u001b[0midx\u001b[0m\u001b[0;34m)\u001b[0m\u001b[0;34m:\u001b[0m\u001b[0;34m\u001b[0m\u001b[0;34m\u001b[0m\u001b[0m\n\u001b[0;32m---> 29\u001b[0;31m         \u001b[0;32mreturn\u001b[0m \u001b[0mself\u001b[0m\u001b[0;34m.\u001b[0m\u001b[0mX\u001b[0m\u001b[0;34m[\u001b[0m\u001b[0midx\u001b[0m\u001b[0;34m]\u001b[0m\u001b[0;34m,\u001b[0m \u001b[0mself\u001b[0m\u001b[0;34m.\u001b[0m\u001b[0mget_label\u001b[0m\u001b[0;34m(\u001b[0m\u001b[0midx\u001b[0m\u001b[0;34m)\u001b[0m\u001b[0;34m\u001b[0m\u001b[0;34m\u001b[0m\u001b[0m\n\u001b[0m\u001b[1;32m     30\u001b[0m \u001b[0;34m\u001b[0m\u001b[0m\n\u001b[1;32m     31\u001b[0m     \u001b[0;32mdef\u001b[0m \u001b[0m__len__\u001b[0m\u001b[0;34m(\u001b[0m\u001b[0mself\u001b[0m\u001b[0;34m)\u001b[0m\u001b[0;34m:\u001b[0m\u001b[0;34m\u001b[0m\u001b[0;34m\u001b[0m\u001b[0m\n",
      "\u001b[0;32m<ipython-input-34-9bb437e8ff36>\u001b[0m in \u001b[0;36mget_label\u001b[0;34m(self, idx)\u001b[0m\n\u001b[1;32m     24\u001b[0m \u001b[0;34m\u001b[0m\u001b[0m\n\u001b[1;32m     25\u001b[0m     \u001b[0;32mdef\u001b[0m \u001b[0mget_label\u001b[0m\u001b[0;34m(\u001b[0m\u001b[0mself\u001b[0m\u001b[0;34m,\u001b[0m \u001b[0midx\u001b[0m\u001b[0;34m)\u001b[0m\u001b[0;34m:\u001b[0m\u001b[0;34m\u001b[0m\u001b[0;34m\u001b[0m\u001b[0m\n\u001b[0;32m---> 26\u001b[0;31m         \u001b[0;32mreturn\u001b[0m \u001b[0mtorch\u001b[0m\u001b[0;34m.\u001b[0m\u001b[0mtensor\u001b[0m\u001b[0;34m(\u001b[0m\u001b[0;34m[\u001b[0m\u001b[0mfloat\u001b[0m\u001b[0;34m(\u001b[0m\u001b[0mself\u001b[0m\u001b[0;34m.\u001b[0m\u001b[0mdf\u001b[0m\u001b[0;34m[\u001b[0m\u001b[0;34m'Close'\u001b[0m\u001b[0;34m]\u001b[0m\u001b[0;34m[\u001b[0m\u001b[0midx\u001b[0m \u001b[0;34m+\u001b[0m \u001b[0;36m1\u001b[0m\u001b[0;34m]\u001b[0m \u001b[0;34m>\u001b[0m \u001b[0mself\u001b[0m\u001b[0;34m.\u001b[0m\u001b[0mdf\u001b[0m\u001b[0;34m[\u001b[0m\u001b[0;34m'Close'\u001b[0m\u001b[0;34m]\u001b[0m\u001b[0;34m[\u001b[0m\u001b[0midx\u001b[0m\u001b[0;34m]\u001b[0m\u001b[0;34m)\u001b[0m\u001b[0;34m]\u001b[0m\u001b[0;34m)\u001b[0m\u001b[0;34m\u001b[0m\u001b[0;34m\u001b[0m\u001b[0m\n\u001b[0m\u001b[1;32m     27\u001b[0m \u001b[0;34m\u001b[0m\u001b[0m\n\u001b[1;32m     28\u001b[0m     \u001b[0;32mdef\u001b[0m \u001b[0m__getitem__\u001b[0m\u001b[0;34m(\u001b[0m\u001b[0mself\u001b[0m\u001b[0;34m,\u001b[0m \u001b[0midx\u001b[0m\u001b[0;34m)\u001b[0m\u001b[0;34m:\u001b[0m\u001b[0;34m\u001b[0m\u001b[0;34m\u001b[0m\u001b[0m\n",
      "\u001b[0;31mKeyboardInterrupt\u001b[0m: "
     ]
    }
   ],
   "metadata": {}
  },
  {
   "cell_type": "code",
   "execution_count": null,
   "source": [],
   "outputs": [],
   "metadata": {}
  }
 ],
 "metadata": {
  "orig_nbformat": 4,
  "language_info": {
   "name": "python",
   "version": "3.8.10",
   "mimetype": "text/x-python",
   "codemirror_mode": {
    "name": "ipython",
    "version": 3
   },
   "pygments_lexer": "ipython3",
   "nbconvert_exporter": "python",
   "file_extension": ".py"
  },
  "kernelspec": {
   "name": "python3",
   "display_name": "Python 3.8.10 64-bit"
  },
  "interpreter": {
   "hash": "916dbcbb3f70747c44a77c7bcd40155683ae19c65e1c03b4aa3499c5328201f1"
  }
 },
 "nbformat": 4,
 "nbformat_minor": 2
}